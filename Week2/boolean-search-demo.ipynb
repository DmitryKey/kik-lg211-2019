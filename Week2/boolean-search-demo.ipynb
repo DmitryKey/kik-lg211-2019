{
 "cells": [
  {
   "cell_type": "markdown",
   "metadata": {},
   "source": [
    "## Boolean search in Python on toy data\n",
    "\n",
    "This code has been adapted and inspired from the notebooks by Filip Ginter for the course *Information Retrieval* given in the spring of 2017 at the University of Turku.\n",
    "\n",
    "Let's first create some toy data, that is, four sentences that we consider to be our \"documents\":"
   ]
  },
  {
   "cell_type": "code",
   "execution_count": 3,
   "metadata": {},
   "outputs": [],
   "source": [
    "documents = [\"This is a silly example\",\n",
    "             \"A better example\",\n",
    "             \"Nothing to see here\",\n",
    "             \"This is a great and long example\"]"
   ]
  },
  {
   "cell_type": "markdown",
   "metadata": {},
   "source": [
    "### Term-document matrix\n",
    "\n",
    "We need to import some functionality from sklearn (also called scikit-learn), which is a free software machine learning library for Python."
   ]
  },
  {
   "cell_type": "code",
   "execution_count": 4,
   "metadata": {},
   "outputs": [],
   "source": [
    "from sklearn.feature_extraction.text import CountVectorizer"
   ]
  },
  {
   "cell_type": "markdown",
   "metadata": {},
   "source": [
    "We use the CountVectorizer class to create a *term-document* matrix of our data:"
   ]
  },
  {
   "cell_type": "code",
   "execution_count": 13,
   "metadata": {},
   "outputs": [
    {
     "name": "stdout",
     "output_type": "stream",
     "text": [
      "Term-document matrix: (?)\n",
      "\n",
      "  (0, 2)\t1\n",
      "  (0, 9)\t1\n",
      "  (0, 5)\t1\n",
      "  (0, 10)\t1\n",
      "  (1, 1)\t1\n",
      "  (1, 2)\t1\n",
      "  (2, 4)\t1\n",
      "  (2, 8)\t1\n",
      "  (2, 11)\t1\n",
      "  (2, 7)\t1\n",
      "  (3, 6)\t1\n",
      "  (3, 0)\t1\n",
      "  (3, 3)\t1\n",
      "  (3, 2)\t1\n",
      "  (3, 5)\t1\n",
      "  (3, 10)\t1\n"
     ]
    }
   ],
   "source": [
    "cv = CountVectorizer(lowercase=True, binary=True)\n",
    "sparse_matrix = cv.fit_transform(documents)\n",
    "\n",
    "print(\"Term-document matrix: (?)\\n\")\n",
    "print(sparse_matrix)"
   ]
  },
  {
   "cell_type": "markdown",
   "metadata": {},
   "source": [
    "Oops, this does not look like a matrix. It is because the matrix is stored in a _sparse_ format to save memory. How do we read this? For instance, the two first rows tell us that in the coordinate (0, 2) of the matrix there is a 1, and in the coordinate (0, 9) there is also a 1.\n",
    "\n",
    "All positions in the matrix not explicitly mentioned contain a zero, so we save memory by not storing all zeros. The matrix is assumed to be sparse, that is, most of the elements are zeros.\n",
    "\n",
    "Anyway, let's print a _dense_ version of this matrix:"
   ]
  },
  {
   "cell_type": "code",
   "execution_count": 14,
   "metadata": {},
   "outputs": [
    {
     "name": "stdout",
     "output_type": "stream",
     "text": [
      "Term-document matrix: (?)\n",
      "\n",
      "[[0 0 1 0 0 1 0 0 0 1 1 0]\n",
      " [0 1 1 0 0 0 0 0 0 0 0 0]\n",
      " [0 0 0 0 1 0 0 1 1 0 0 1]\n",
      " [1 0 1 1 0 1 1 0 0 0 1 0]]\n"
     ]
    }
   ],
   "source": [
    "dense_matrix = sparse_matrix.todense()\n",
    "\n",
    "print(\"Term-document matrix: (?)\\n\")\n",
    "print(dense_matrix)"
   ]
  },
  {
   "cell_type": "markdown",
   "metadata": {},
   "source": [
    "This looks better, but... There are four documents, so the rows must now be the documents and the columns the terms (= words). However, we want to have a *term-document* matrix, not a *document-term* matrix.\n",
    "\n",
    "Let's *transpose* the matrix, so that the rows and columns change places:"
   ]
  },
  {
   "cell_type": "code",
   "execution_count": 15,
   "metadata": {},
   "outputs": [
    {
     "name": "stdout",
     "output_type": "stream",
     "text": [
      "Term-document matrix:\n",
      "\n",
      "[[0 0 0 1]\n",
      " [0 1 0 0]\n",
      " [1 1 0 1]\n",
      " [0 0 0 1]\n",
      " [0 0 1 0]\n",
      " [1 0 0 1]\n",
      " [0 0 0 1]\n",
      " [0 0 1 0]\n",
      " [0 0 1 0]\n",
      " [1 0 0 0]\n",
      " [1 0 0 1]\n",
      " [0 0 1 0]]\n"
     ]
    }
   ],
   "source": [
    "td_matrix = dense_matrix.T   # .T transposes the matrix\n",
    "\n",
    "print(\"Term-document matrix:\\n\")\n",
    "print(td_matrix)"
   ]
  },
  {
   "cell_type": "markdown",
   "metadata": {},
   "source": [
    "From this matrix we can read, for instance, that the term represented by the first row `[0 0 0 1]` occurs only in the fourth document (_\"This is a great and long example\"_). It further tells us, for example, that the term on the third row `[1 1 0 1]` occurs in all but the third document.\n",
    "\n",
    "So, how can we know which term the different rows represent?\n",
    "\n",
    "Here goes the ordered list of terms:"
   ]
  },
  {
   "cell_type": "code",
   "execution_count": 16,
   "metadata": {},
   "outputs": [
    {
     "name": "stdout",
     "output_type": "stream",
     "text": [
      "\n",
      "IDX -> terms mapping:\n",
      "\n",
      "['and', 'better', 'example', 'great', 'here', 'is', 'long', 'nothing', 'see', 'silly', 'this', 'to']\n"
     ]
    }
   ],
   "source": [
    "print(\"\\nIDX -> terms mapping:\\n\")\n",
    "print(cv.get_feature_names())"
   ]
  },
  {
   "cell_type": "markdown",
   "metadata": {},
   "source": [
    "So, the first row represents the word \"and\" and the third row the word \"example\".\n",
    "\n",
    "Let's double-check that:"
   ]
  },
  {
   "cell_type": "code",
   "execution_count": 22,
   "metadata": {},
   "outputs": [
    {
     "name": "stdout",
     "output_type": "stream",
     "text": [
      "First term (with row index 0): and\n",
      "Third term (with row index 2): example\n"
     ]
    }
   ],
   "source": [
    "terms = cv.get_feature_names()\n",
    "\n",
    "print(\"First term (with row index 0):\", terms[0])\n",
    "print(\"Third term (with row index 2):\", terms[2])"
   ]
  },
  {
   "cell_type": "markdown",
   "metadata": {},
   "source": [
    "It is also possible to map the other way around, from term to index:"
   ]
  },
  {
   "cell_type": "code",
   "execution_count": 19,
   "metadata": {},
   "outputs": [
    {
     "name": "stdout",
     "output_type": "stream",
     "text": [
      "\n",
      "term -> IDX mapping:\n",
      "\n",
      "{'this': 10, 'is': 5, 'silly': 9, 'example': 2, 'better': 1, 'nothing': 7, 'to': 11, 'see': 8, 'here': 4, 'great': 3, 'and': 0, 'long': 6}\n"
     ]
    }
   ],
   "source": [
    "print(\"\\nterm -> IDX mapping:\\n\")\n",
    "print(cv.vocabulary_) # note the _ at the end"
   ]
  },
  {
   "cell_type": "markdown",
   "metadata": {},
   "source": [
    "`vocabulary_` (with a trailing underscore) is a Python dictionary:"
   ]
  },
  {
   "cell_type": "code",
   "execution_count": 23,
   "metadata": {},
   "outputs": [
    {
     "name": "stdout",
     "output_type": "stream",
     "text": [
      "Row index of 'example': 2\n",
      "Row index of 'silly': 9\n"
     ]
    }
   ],
   "source": [
    "print(\"Row index of 'example':\", cv.vocabulary_[\"example\"])\n",
    "print(\"Row index of 'silly':\", cv.vocabulary_[\"silly\"])"
   ]
  }
 ],
 "metadata": {
  "kernelspec": {
   "display_name": "Python 3",
   "language": "python",
   "name": "python3"
  },
  "language_info": {
   "codemirror_mode": {
    "name": "ipython",
    "version": 3
   },
   "file_extension": ".py",
   "mimetype": "text/x-python",
   "name": "python",
   "nbconvert_exporter": "python",
   "pygments_lexer": "ipython3",
   "version": "3.6.0"
  }
 },
 "nbformat": 4,
 "nbformat_minor": 2
}
