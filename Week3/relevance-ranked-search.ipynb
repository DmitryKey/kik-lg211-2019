{
 "cells": [
  {
   "cell_type": "markdown",
   "metadata": {},
   "source": [
    "# Relevance-ranked search\n",
    "\n",
    "Let's return to the indexing of toy data, as we did in the tutorial on Boolean search. This new tutorial has also been inspired by course material by Filip Ginter in Turku.\n",
    "\n",
    "Our documents now look slightly different:"
   ]
  },
  {
   "cell_type": "code",
   "execution_count": 3,
   "metadata": {},
   "outputs": [],
   "source": [
    "documents = [\"This is a silly silly silly example\",\n",
    "             \"A better example\",\n",
    "             \"Nothing to see here nor here nor here\",\n",
    "             \"This is a great example and a long example too\"]"
   ]
  },
  {
   "cell_type": "markdown",
   "metadata": {},
   "source": [
    "We can index them as we did before:"
   ]
  },
  {
   "cell_type": "code",
   "execution_count": 42,
   "metadata": {},
   "outputs": [
    {
     "name": "stdout",
     "output_type": "stream",
     "text": [
      "Term-document matrix:\n",
      "\n",
      "[[0 0 0 1]\n",
      " [0 1 0 0]\n",
      " [1 1 0 1]\n",
      " [0 0 0 1]\n",
      " [0 0 1 0]\n",
      " [1 0 0 1]\n",
      " [0 0 0 1]\n",
      " [0 0 1 0]\n",
      " [0 0 1 0]\n",
      " [0 0 1 0]\n",
      " [1 0 0 0]\n",
      " [1 0 0 1]\n",
      " [0 0 1 0]\n",
      " [0 0 0 1]]\n"
     ]
    }
   ],
   "source": [
    "from sklearn.feature_extraction.text import CountVectorizer\n",
    "import numpy as np\n",
    "\n",
    "cv = CountVectorizer(lowercase=True, binary=True)\n",
    "binary_dense_matrix = cv.fit_transform(documents).T.todense()\n",
    "\n",
    "print(\"Term-document matrix:\\n\")\n",
    "print(binary_dense_matrix)"
   ]
  },
  {
   "cell_type": "markdown",
   "metadata": {},
   "source": [
    "Next, we'll remove the `binary=True` optional argument from the `CountVectorizer` constructor. The default value is `binary=False`. What change can we observe?"
   ]
  },
  {
   "cell_type": "code",
   "execution_count": 8,
   "metadata": {},
   "outputs": [
    {
     "name": "stdout",
     "output_type": "stream",
     "text": [
      "Term-document matrix:\n",
      "\n",
      "[[0 0 0 1]\n",
      " [0 1 0 0]\n",
      " [1 1 0 2]\n",
      " [0 0 0 1]\n",
      " [0 0 3 0]\n",
      " [1 0 0 1]\n",
      " [0 0 0 1]\n",
      " [0 0 2 0]\n",
      " [0 0 1 0]\n",
      " [0 0 1 0]\n",
      " [3 0 0 0]\n",
      " [1 0 0 1]\n",
      " [0 0 1 0]\n",
      " [0 0 0 1]]\n"
     ]
    }
   ],
   "source": [
    "cv = CountVectorizer(lowercase=True)\n",
    "dense_matrix = cv.fit_transform(documents).T.todense()\n",
    "\n",
    "print(\"Term-document matrix:\\n\")\n",
    "print(dense_matrix)"
   ]
  },
  {
   "cell_type": "markdown",
   "metadata": {},
   "source": [
    "If we run a query on the term \"example\", we get:"
   ]
  },
  {
   "cell_type": "code",
   "execution_count": 9,
   "metadata": {},
   "outputs": [
    {
     "name": "stdout",
     "output_type": "stream",
     "text": [
      "Query: example\n",
      "[[1 1 0 2]]\n"
     ]
    }
   ],
   "source": [
    "t2i = cv.vocabulary_  # shorter notation: t2i = term-to-index\n",
    "print(\"Query: example\")\n",
    "print(dense_matrix[t2i[\"example\"]])"
   ]
  },
  {
   "cell_type": "markdown",
   "metadata": {},
   "source": [
    "Instead of seeing *whether* a term occurs in a document, we now see *how many times* the term occurs in each document:"
   ]
  },
  {
   "cell_type": "code",
   "execution_count": 53,
   "metadata": {},
   "outputs": [
    {
     "name": "stdout",
     "output_type": "stream",
     "text": [
      "Example occurs 1 time(s) in document: This is a silly silly silly example\n",
      "Example occurs 1 time(s) in document: A better example\n",
      "Example occurs 0 time(s) in document: Nothing to see here nor here nor here\n",
      "Example occurs 2 time(s) in document: This is a great example and a long example too\n"
     ]
    }
   ],
   "source": [
    "hits_list = np.array(dense_matrix[t2i[\"example\"]])[0]\n",
    "\n",
    "for i, nhits in enumerate(hits_list):\n",
    "    print(\"Example occurs\", nhits, \"time(s) in document:\", documents[i])"
   ]
  },
  {
   "cell_type": "markdown",
   "metadata": {},
   "source": [
    "When the number and sizes of the documents grow, we may think that the more times a search term occurs in a document, the more relevant the document is. So, if we search for \"example\" in our toy document collection, the fourth document is most relevant (2 hits), the first and second documents come next (1 hit each) and the third document is irrelevant (0 hits).\n",
    "\n",
    "If we have multiple search terms, we might think that the more times the search terms occur in total in the document, the more relevant the document is.\n",
    "\n",
    "Note that the bit-wise logical operators `AND (&)` and `OR (|)` will not work properly anymore when our matrix contains word counts. The same applies to `NOT (1 - x)`.\n",
    "\n",
    "Let's search for the most relevant document for the query *better example*:"
   ]
  },
  {
   "cell_type": "code",
   "execution_count": 50,
   "metadata": {},
   "outputs": [
    {
     "name": "stdout",
     "output_type": "stream",
     "text": [
      "Query: better example\n",
      "Hits of better:         [[0 1 0 0]]\n",
      "Hits of example:        [[1 1 0 2]]\n",
      "Hits of better example: [[1 2 0 2]]\n"
     ]
    }
   ],
   "source": [
    "print(\"Query: better example\")\n",
    "print(\"Hits of better:        \", dense_matrix[t2i[\"better\"]])\n",
    "print(\"Hits of example:       \", dense_matrix[t2i[\"example\"]])\n",
    "print(\"Hits of better example:\", dense_matrix[t2i[\"better\"]] + dense_matrix[t2i[\"example\"]])"
   ]
  },
  {
   "cell_type": "markdown",
   "metadata": {},
   "source": [
    "We just added the hits together. This means that we did not search for the phrase \"better example\", nor did we search for \"better\" AND \"example\". What we did search for was some kind of \"better\" OR \"example\", in which the sum of the number of occurrences of \"better\" and \"example\" in a document determines the relevance of the document.\n",
    "\n",
    "This means that the second document, which contains one occurrence each of \"better\" and \"example\" is as good a hit as the fourth document, which contains two occurrences of \"example\" and no occurrence of \"better\".\n",
    "\n",
    "Let's do another query:"
   ]
  },
  {
   "cell_type": "code",
   "execution_count": 73,
   "metadata": {},
   "outputs": [
    {
     "name": "stdout",
     "output_type": "stream",
     "text": [
      "Query: silly example\n",
      "Hits of silly:         [[3 0 0 0]]\n",
      "Hits of example:       [[1 1 0 2]]\n",
      "Hits of silly example: [[4 1 0 2]]\n"
     ]
    }
   ],
   "source": [
    "print(\"Query: silly example\")\n",
    "print(\"Hits of silly:        \", dense_matrix[t2i[\"silly\"]])\n",
    "print(\"Hits of example:      \", dense_matrix[t2i[\"example\"]])\n",
    "print(\"Hits of silly example:\", dense_matrix[t2i[\"silly\"]] + dense_matrix[t2i[\"example\"]])"
   ]
  },
  {
   "cell_type": "markdown",
   "metadata": {},
   "source": [
    "... and also rank (sort) the results by relevance. We leave out the document without a single hit:"
   ]
  },
  {
   "cell_type": "code",
   "execution_count": 74,
   "metadata": {},
   "outputs": [
    {
     "name": "stdout",
     "output_type": "stream",
     "text": [
      "Hits: [4 1 0 2]\n",
      "List of tuples (nhits, doc_idx) where nhits > 0: [(4, 0), (1, 1), (2, 3)]\n",
      "Ranked (nhits, doc_idx) tuples: [(4, 0), (2, 3), (1, 1)]\n",
      "\n",
      "Matched the following documents, ranked highest relevance first:\n",
      "Score of 'silly example' is 4 in document: This is a silly silly silly example\n",
      "Score of 'silly example' is 2 in document: This is a great example and a long example too\n",
      "Score of 'silly example' is 1 in document: A better example\n"
     ]
    }
   ],
   "source": [
    "hits_list = np.array(dense_matrix[t2i[\"silly\"]] + dense_matrix[t2i[\"example\"]])[0]\n",
    "print(\"Hits:\", hits_list)\n",
    "\n",
    "nhits_and_doc_ids = [ (nhits, i) for i, nhits in enumerate(hits_list) if nhits > 0 ]\n",
    "print(\"List of tuples (nhits, doc_idx) where nhits > 0:\", nhits_and_doc_ids)\n",
    "\n",
    "ranked_nhits_and_doc_ids = sorted(nhits_and_doc_ids, reverse=True)\n",
    "print(\"Ranked (nhits, doc_idx) tuples:\", ranked_nhits_and_doc_ids)\n",
    "\n",
    "print(\"\\nMatched the following documents, ranked highest relevance first:\")\n",
    "for nhits, i in ranked_nhits_and_doc_ids:\n",
    "    print(\"Score of 'silly example' is\", nhits, \"in document:\", documents[i])"
   ]
  }
 ],
 "metadata": {
  "kernelspec": {
   "display_name": "Python 3",
   "language": "python",
   "name": "python3"
  },
  "language_info": {
   "codemirror_mode": {
    "name": "ipython",
    "version": 3
   },
   "file_extension": ".py",
   "mimetype": "text/x-python",
   "name": "python",
   "nbconvert_exporter": "python",
   "pygments_lexer": "ipython3",
   "version": "3.6.0"
  }
 },
 "nbformat": 4,
 "nbformat_minor": 2
}
